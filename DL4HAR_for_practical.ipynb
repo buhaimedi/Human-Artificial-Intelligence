{
 "cells": [
  {
   "cell_type": "markdown",
   "metadata": {
    "id": "XCHpd5OTBQ-2"
   },
   "source": [
    "# Deep Learning for Human Activity Recognition\n",
    "\n",
    "\n",
    "dataset can be downloaded at: https://www.dropbox.com/sh/1745pukanq6g94r/AAAy1zulrY25VZXh65sAWbZoa?dl=0\n",
    "\n",
    "### if you use colab, you can upload the dataset via the script below:\n",
    "\n",
    "from google.colab import files\n",
    "\n",
    "files.upload()\n",
    "\n",
    "\n",
    "### OR put it the data into your google drive\n",
    "##### step 1: run the following scripts\n",
    "\n",
    "from google.colab import drive\n",
    "\n",
    "drive.mount('/content/drive')\n",
    "\n",
    "##### step 2: google account required for authentication code\n",
    "\n",
    "##### step 3: run the following scripts\n",
    "\n",
    "from google.colab import files\n",
    "\n",
    "data = scipy.io.loadmat('/content/drive/MyDrive/-your-data-')"
   ]
  },
  {
   "cell_type": "markdown",
   "metadata": {
    "id": "JZG7vPE6CjOY"
   },
   "source": [
    "This example uses google drive."
   ]
  },
  {
   "cell_type": "markdown",
   "metadata": {
    "id": "S9x_IYioHLVz"
   },
   "source": [
    "Before you start, have a look at a description of the dataset, so you know what you're looking at! https://archive.ics.uci.edu/ml/datasets/PAMAP2+Physical+Activity+Monitoring"
   ]
  },
  {
   "cell_type": "code",
   "execution_count": null,
   "metadata": {
    "colab": {
     "base_uri": "https://localhost:8080/"
    },
    "id": "yxr8d4XVCKST",
    "outputId": "2b99bccf-a018-4915-d782-11508b2c41a7"
   },
   "outputs": [],
   "source": [
    "#connect to google drive account (only necessary if you're following this route). Make sure you have uploaded the PAMAP2.mat file there!)\n",
    "from google.colab import drive\n",
    "\n",
    "drive.mount('/content/drive')"
   ]
  },
  {
   "cell_type": "markdown",
   "metadata": {},
   "source": [
    "## loading packages and dataset and define the traning and test var\n"
   ]
  },
  {
   "cell_type": "code",
   "execution_count": 25,
   "metadata": {
    "colab": {
     "base_uri": "https://localhost:8080/"
    },
    "id": "GIZ614p9BQ-8",
    "outputId": "d25d3795-0793-4b06-8eff-c29b56deb1bc"
   },
   "outputs": [
    {
     "name": "stdout",
     "output_type": "stream",
     "text": [
      "including MLP/CNN/LSTM/ConvLSTM\n"
     ]
    }
   ],
   "source": [
    "#loading packages to add more functionality to python\n",
    "import numpy as np\n",
    "import scipy.io\n",
    "\n",
    "#keras packeges are for machine learning\n",
    "import keras\n",
    "from keras.models import Sequential\n",
    "from keras.layers import Conv2D, MaxPooling2D, LSTM, Dense, Dropout, Flatten\n",
    "from keras.layers.core import Permute, Reshape\n",
    "from keras import backend as K\n",
    "\n",
    "#fix the algorithm for random number generation. This makes sure that we get the same result each time we run this script (which would otherwise be a little different each time)\n",
    "np.random.seed(2)\n",
    "\n",
    "#loading data -- through file upload\n",
    "#files.upload()\n",
    "#data = scipy.io.loadmat('PAMAP2.mat')\n",
    "\n",
    "#loading data -- through google drive (path might need to be changed...)\n",
    "data = scipy.io.loadmat('dataset/PAMAP2.mat')\n",
    "\n",
    "\n",
    "#define the training and test set\n",
    "Xy_train0 = data['Xy_train']\n",
    "Xy_test0 = data['Xy_test']\n",
    "\n",
    "#these are the deep learning (DL) methods that we will explore in this script\n",
    "print('including MLP/CNN/LSTM/ConvLSTM')\n",
    "\n",
    "\n"
   ]
  },
  {
   "cell_type": "markdown",
   "metadata": {
    "id": "2JRa9uBOEonw"
   },
   "source": []
  },
  {
   "cell_type": "code",
   "execution_count": 94,
   "metadata": {
    "colab": {
     "base_uri": "https://localhost:8080/"
    },
    "id": "PNTRcs9_BQ-_",
    "outputId": "e36b61ac-70af-4bda-9a20-f08257683eee"
   },
   "outputs": [
    {
     "name": "stdout",
     "output_type": "stream",
     "text": [
      "in DL, it is crucial to perform channel-wise normalisation\n",
      "(27,)\n",
      "(27,)\n"
     ]
    }
   ],
   "source": [
    "print('in DL, it is crucial to perform channel-wise normalisation')\n",
    "mn = np.mean(Xy_train0[:,:-1], axis=0)\n",
    "print(mn.shape)\n",
    "std = np.std(Xy_train0[:,:-1], axis=0)\n",
    "print(std.shape)\n",
    "Xy_train0[:,:-1] = (Xy_train0[:,:-1]-mn)/std\n",
    "Xy_test0[:,:-1] = (Xy_test0[:,:-1]-mn)/std"
   ]
  },
  {
   "cell_type": "markdown",
   "metadata": {
    "id": "zj2dcP0CFQ48"
   },
   "source": [
    "## Define the categories number in the Dataset, cNum=12 is the number of categories\n",
    "## we have to explore the data set before setting the value, for example, if our dataset labelled and had 7 categories we change the value into 7\n",
    "## win_len = 100 is the windows length , we will change it to be equal 15 minute"
   ]
  },
  {
   "cell_type": "code",
   "execution_count": 27,
   "metadata": {
    "colab": {
     "base_uri": "https://localhost:8080/"
    },
    "id": "74l2_Wg_BQ_B",
    "outputId": "3047a223-80a0-43e6-f6c1-a9b55fdc2f97"
   },
   "outputs": [
    {
     "name": "stdout",
     "output_type": "stream",
     "text": [
      "27\n"
     ]
    }
   ],
   "source": [
    "cNum=12 #number of categories\n",
    "win_len = 100 #window length\n",
    "dim = Xy_train0.shape[1]-1 #minus the label col; number of dimensions \n",
    "print(dim)"
   ]
  },
  {
   "cell_type": "markdown",
   "metadata": {},
   "source": [
    "## this function creates a sequence of windows and check the overlapping and reshape the data\n",
    "## overlapping importing in classification model to avoid data from the same case can being present in both of the columns being tested.\n",
    "## this happens usually when there is noise data in the dataset"
   ]
  },
  {
   "cell_type": "code",
   "execution_count": 28,
   "metadata": {
    "id": "ylXZKfShBQ_B"
   },
   "outputs": [],
   "source": [
    "#Function to create a sequence of windows\n",
    "def sliding_window(Xy, percentage=0.5, win_len=100):\n",
    "    #print('per')\n",
    "    print('overlapping_percentage:  '+str(percentage*100)+'%')\n",
    "\n",
    "    batch_size0 = int(np.floor(len(Xy)/win_len))\n",
    "    #print(batch_size0)\n",
    "    Xy0 = Xy[:win_len*batch_size0,:]\n",
    "    if percentage==1:\n",
    "        print('100% overlapping means no overlapping')\n",
    "        return Xy0\n",
    "\n",
    "    K_fold = int(1/(1-percentage))\n",
    "    #print(K_fold)\n",
    "    offset = int(np.round(win_len * (1-percentage)))\n",
    "    Xy_big = []\n",
    "    for k in range(K_fold):\n",
    "        #print(k)\n",
    "        current_set = Xy0[k*offset:len(Xy0)-(win_len-k*offset),:]\n",
    "        #print(len(current_set))\n",
    "        Xy_big.append(current_set)\n",
    "    return np.concatenate(Xy_big)\n",
    "\n",
    "#Function to reshape the data. Every window becomes a frame\n",
    "def _to_frames(Xy, dim, win_len=100):\n",
    "    X3D = np.reshape(Xy[:,:-1], (-1, win_len, dim))\n",
    "    y2D = np.reshape(Xy[:,-1],(-1, win_len)).astype(int)\n",
    "    y = np.zeros(len(y2D))\n",
    "    for i in range(len(y2D)):\n",
    "        counts = np.bincount(np.reshape(y2D[i, :], (-1)))\n",
    "        y[i] = np.argmax(counts)\n",
    "    return X3D, y"
   ]
  },
  {
   "cell_type": "code",
   "execution_count": 29,
   "metadata": {
    "colab": {
     "base_uri": "https://localhost:8080/"
    },
    "id": "x69Vo_WABQ_C",
    "outputId": "2be1bfb3-2f4d-4b53-b35b-f1c02f317406"
   },
   "outputs": [
    {
     "name": "stdout",
     "output_type": "stream",
     "text": [
      "(473445, 28)\n",
      "overlapping_percentage:  50.0%\n",
      "(946600, 28)\n",
      "(9466, 100, 27)\n",
      "(9466,)\n",
      "(174180, 28)\n",
      "overlapping_percentage:  50.0%\n",
      "(348000, 28)\n"
     ]
    }
   ],
   "source": [
    "\n",
    "\n",
    "#applying the sliding window function and reshape the data so that it will fit the DL model\n",
    "print(Xy_train0.shape) #data size before the sliding window function\n",
    "Xy_train = sliding_window(Xy_train0, 0.5, win_len)\n",
    "print(Xy_train.shape) #data size after the sliding window function\n",
    "X_train0, y_train0 = _to_frames(Xy_train,dim, win_len)\n",
    "print(X_train0.shape) #input data size after reshaping\n",
    "print(y_train0.shape) #label data size after reshaping\n",
    "\n",
    "#do the same for the test data\n",
    "print(Xy_test0.shape)\n",
    "Xy_test = sliding_window(Xy_test0, 0.5, win_len)\n",
    "print(Xy_test.shape)\n",
    "X_test0, y_test0 = _to_frames(Xy_test,dim,win_len)\n",
    "\n",
    "\n"
   ]
  },
  {
   "cell_type": "markdown",
   "metadata": {
    "id": "yF9-0IOHJFR6"
   },
   "source": [
    "Q9: So what does this 9466, 100, 27 mean?"
   ]
  },
  {
   "cell_type": "markdown",
   "metadata": {},
   "source": [
    "## visually explore the categories in the traning data and testing data"
   ]
  },
  {
   "cell_type": "code",
   "execution_count": 30,
   "metadata": {
    "colab": {
     "base_uri": "https://localhost:8080/",
     "height": 928
    },
    "id": "CGZbOtHyBQ_E",
    "outputId": "71630f48-7db1-45ca-ca22-73b3dde2db67"
   },
   "outputs": [
    {
     "name": "stdout",
     "output_type": "stream",
     "text": [
      "class 0, sample number 275, percentage 2.9%\n",
      "class 1, sample number 971, percentage 10.3%\n",
      "class 2, sample number 902, percentage 9.5%\n",
      "class 3, sample number 957, percentage 10.1%\n",
      "class 4, sample number 1205, percentage 12.7%\n",
      "class 5, sample number 337, percentage 3.6%\n",
      "class 6, sample number 797, percentage 8.4%\n",
      "class 7, sample number 901, percentage 9.5%\n",
      "class 8, sample number 596, percentage 6.3%\n",
      "class 9, sample number 540, percentage 5.7%\n",
      "class 10, sample number 867, percentage 9.2%\n",
      "class 11, sample number 1118, percentage 11.8%\n"
     ]
    },
    {
     "data": {
      "image/png": "[encoded data removed]",
      "text/plain": [
       "<Figure size 432x288 with 1 Axes>"
      ]
     },
     "metadata": {},
     "output_type": "display_data"
    },
    {
     "name": "stdout",
     "output_type": "stream",
     "text": [
      "class 0, sample number 50, percentage 1.4%\n",
      "class 1, sample number 313, percentage 9.0%\n",
      "class 2, sample number 333, percentage 9.6%\n",
      "class 3, sample number 309, percentage 8.9%\n",
      "class 4, sample number 384, percentage 11.0%\n",
      "class 5, sample number 317, percentage 9.1%\n",
      "class 6, sample number 301, percentage 8.6%\n",
      "class 7, sample number 353, percentage 10.1%\n",
      "class 8, sample number 183, percentage 5.3%\n",
      "class 9, sample number 161, percentage 4.6%\n",
      "class 10, sample number 303, percentage 8.7%\n",
      "class 11, sample number 473, percentage 13.6%\n"
     ]
    },
    {
     "data": {
      "image/png": "[encoded data removed]",
      "text/plain": [
       "<Figure size 432x288 with 1 Axes>"
      ]
     },
     "metadata": {},
     "output_type": "display_data"
    }
   ],
   "source": [
    "#we're going to visually explore the categories in the data\n",
    "import matplotlib.pyplot as plt\n",
    "%matplotlib inline\n",
    "def drawing_pie_chart(percentages, labels, dataset_id):\n",
    "    plt.title(dataset_id)\n",
    "    color_set = ['yellowgreen', 'gold', 'lightskyblue', 'lightcoral',\n",
    "            '#eeeeee','#C44E52', 'green', '#B47CC7','#ffed6f','#777777','#C4AD66','red', \n",
    "                  'blue',  'cyan', 'magenta',\n",
    "                '#FBC15E','#56B4E9','#4878CF','#FFFEA3' ]\n",
    "    \n",
    "    labels = labels.copy()\n",
    "    for i in range(len(percentages)):\n",
    "        labels[i] = labels[i]+'  ('+str(percentages[i])[:4]+'%)'\n",
    "    colors = color_set[:len(percentages)]\n",
    "    \n",
    "    \n",
    "    patches, texts = plt.pie(percentages, colors=colors, startangle=90)\n",
    "    \n",
    "    plt.axis('equal')\n",
    "    lgd = plt.legend(labels, loc=(0.9, 0.05), shadow=True, borderaxespad=10.)\n",
    "    \n",
    "    \n",
    "    #plt.savefig('dataset_'+dataset_id+'.eps', bbox_extra_artists=(lgd,), bbox_inches='tight', format='eps', dpi=600)\n",
    "    plt.show()\n",
    "    \n",
    "def calculating_percentages(y_, cNum):\n",
    "    percentages = np.zeros(cNum)\n",
    "    for i in range(cNum):\n",
    "        num = np.sum(y_==i)\n",
    "        percentages[i]=100.0*num/len(y_)\n",
    "        print('class {}, sample number {}, percentage {:.1f}%'.format(i, num, percentages[i]))\n",
    "    return percentages\n",
    "\n",
    "\n",
    "dataset_id = 'PAMAP2'\n",
    "labels_PAMAP2 = [r'rope jumping', \n",
    "                 r'lying', \n",
    "                 r'sitting', \n",
    "                 r'standing',\n",
    "                 r'walking', \n",
    "                 r'running', \n",
    "                 r'cycling', \n",
    "                 r'nordic walking',\n",
    "                 r'ascending stairs', \n",
    "                 r'descending stairs', \n",
    "                 r'vacuum cleaning', \n",
    "                 r'ironing']\n",
    "cNum = 12 # 12 classes for PAMAP2\n",
    "\n",
    "\n",
    "percentages_train = calculating_percentages(y_train0, cNum)\n",
    "drawing_pie_chart(percentages_train,labels_PAMAP2,dataset_id+'_train')\n",
    "\n",
    "\n",
    "percentages_test = calculating_percentages(y_test0, cNum)\n",
    "drawing_pie_chart(percentages_test,labels_PAMAP2,dataset_id+'_test')"
   ]
  },
  {
   "cell_type": "markdown",
   "metadata": {
    "id": "mnftH57eQLJ9"
   },
   "source": [
    "Q10: What important facts do this figures tell us?"
   ]
  },
  {
   "cell_type": "markdown",
   "metadata": {
    "id": "SEQ932hoQhz5"
   },
   "source": [
    "Q11: Based on this graph, after we trained the model, for which activity do we assume that the model with perform the worst?"
   ]
  },
  {
   "cell_type": "markdown",
   "metadata": {
    "id": "epqDEPOVQ8aV"
   },
   "source": [
    "Q12: Which figure (or both) do we look at to answer Q11? Why?"
   ]
  },
  {
   "cell_type": "markdown",
   "metadata": {
    "id": "qgX9ohz1RF_-"
   },
   "source": [
    "Q13: What's the single best thing to do to improve the potential performance of the model?"
   ]
  },
  {
   "cell_type": "code",
   "execution_count": 31,
   "metadata": {
    "id": "h4sJIF8YBQ_F"
   },
   "outputs": [],
   "source": [
    "#The function shapes the data into a size that works for the specific DL model\n",
    "def _reshaping_Network_input(X, network_type):\n",
    "    _, win_len, dim = X.shape\n",
    "    print(network_type)\n",
    "    if network_type=='CNN' or network_type=='ConvLSTM':\n",
    "        \n",
    "        # make it into (frame_number, dimension, window_size, channel=1) for convNet\n",
    "        X = np.swapaxes(X,1,2)\n",
    "        X = np.reshape(X, (-1, dim, win_len, 1))\n",
    "                \n",
    "    if network_type=='MLP':\n",
    "        X = np.reshape(X, (-1, dim*win_len))\n",
    "    return X"
   ]
  },
  {
   "cell_type": "code",
   "execution_count": 32,
   "metadata": {
    "id": "qIGisw9cBQ_F"
   },
   "outputs": [],
   "source": [
    "#define the DL part of the convolution neural network  \n",
    "def model_variant(model, num_feat_map, dim, network_type):\n",
    "    print(network_type)\n",
    "    if network_type == 'ConvLSTM':\n",
    "        model.add(Permute((2, 1, 3))) # for swap-dimension\n",
    "        model.add(Reshape((-1,num_feat_map*dim)))\n",
    "        model.add(LSTM(32, return_sequences=False, stateful=False))\n",
    "        model.add(Dropout(0.5))\n",
    "    if network_type == 'CNN':\n",
    "        \n",
    "        model.add(Flatten())\n",
    "        model.add(Dense(32, activation='relu'))\n",
    "        model.add(Dropout(0.5))\n",
    "\n",
    "#define the convolution part of the convolution neural network       \n",
    "def model_conv(model, num_feat_map):\n",
    "    model.add(Conv2D(num_feat_map, kernel_size=(1, 5),\n",
    "                 activation='relu',\n",
    "                 input_shape=(dim, win_len, 1),\n",
    "                 padding='same'))\n",
    "    model.add(MaxPooling2D(pool_size=(1, 2)))\n",
    "    model.add(Dropout(0.5))\n",
    "    model.add(Conv2D(num_feat_map, kernel_size=(1, 5), activation='relu',padding='same'))\n",
    "    model.add(MaxPooling2D(pool_size=(1, 2)))\n",
    "    model.add(Dropout(0.5))\n",
    "\n",
    "#the long-short-term-memory model\n",
    "def model_LSTM(model):\n",
    "    model.add(LSTM(num_hidden_lstm, \n",
    "               input_shape=(win_len,dim), \n",
    "               return_sequences=True))\n",
    "    model.add(Dropout(0.5))\n",
    "    model.add(LSTM(num_hidden_lstm, return_sequences=False))\n",
    "    model.add(Dropout(0.5))\n",
    "\n",
    "#the multilayer perceptron model\n",
    "def model_MLP(model, num_hidden_mlp):\n",
    "    model.add(Dense(num_hidden_mlp, activation='relu', input_shape=(dim*win_len,)))\n",
    "    model.add(Dropout(0.5))\n",
    "    model.add(Dense(num_hidden_mlp, activation='relu'))\n",
    "    model.add(Dropout(0.5))\n",
    "    \n",
    "\n",
    "# the structure for the last layer of the model    \n",
    "def model_output(model):\n",
    "    model.add(Dense(cNum, activation='softmax'))"
   ]
  },
  {
   "cell_type": "markdown",
   "metadata": {},
   "source": [
    "## here we define the batch size and hidden layers for MLP and LSTM\n",
    "## Batch size is a machine learning phrase that refers to the amount of training samples utilised in one iteration.\n",
    "## The hidden layer enables the neural network to learn categories that are not linearly separable.\n",
    "## We also enable the CNN model, which is appropriate for sleep detection datasets."
   ]
  },
  {
   "cell_type": "code",
   "execution_count": 33,
   "metadata": {
    "id": "AtBOlYM3BQ_G"
   },
   "outputs": [],
   "source": [
    "\n",
    "batch_size = 128\n",
    "num_feat_map = 16\n",
    "num_hidden_mlp = 128\n",
    "num_hidden_lstm = 64\n",
    "\n",
    "network_type = 'MLP'\n",
    "network_type = 'CNN'\n",
    "#network_type = 'LSTM'\n",
    "#network_type = 'ConvLSTM'\n",
    "\n",
    "\n",
    "_, win_len, dim = X_train0.shape\n"
   ]
  },
  {
   "cell_type": "code",
   "execution_count": 34,
   "metadata": {
    "id": "wKkCuk87BQ_G",
    "outputId": "d4fdaecb-2242-4126-c729-0fe1282ddd3f"
   },
   "outputs": [
    {
     "name": "stdout",
     "output_type": "stream",
     "text": [
      "MLP\n",
      "MLP\n",
      "(9466, 2700)\n"
     ]
    }
   ],
   "source": [
    "#reshaping the data into a size that works for the specific DL model, using the function that we defined before\n",
    "X_train = _reshaping_Network_input(X_train0, network_type)\n",
    "X_test = _reshaping_Network_input(X_test0, network_type)\n",
    "print(X_train.shape)"
   ]
  },
  {
   "cell_type": "markdown",
   "metadata": {},
   "source": [
    "## we apply hot encoding function here, Hot encoding is a common method for preparing categorical information for machine learning models. This form of encoding generates a new binary feature for each potential category and assigns the feature of each sample that corresponds to its original category a value of 1.\n",
    "## there is  problem with this code , **keras.utils.to_categorical** not used in new versons of keras we need to replace it with  **keras.utils.np_utils.to_categorical**"
   ]
  },
  {
   "cell_type": "code",
   "execution_count": 41,
   "metadata": {
    "id": "pI56ECNYBQ_G",
    "outputId": "7b633e41-b312-44a9-caa6-a7038da24d03"
   },
   "outputs": [
    {
     "name": "stdout",
     "output_type": "stream",
     "text": [
      "one hot encoding for the labels\n"
     ]
    }
   ],
   "source": [
    "print('one hot encoding for the labels')\n",
    "#y_train = keras.utils.to_categorical(y_train0, cNum)\n",
    "y_train = keras.utils.np_utils.to_categorical(y_train0, cNum)\n"
   ]
  },
  {
   "cell_type": "markdown",
   "metadata": {},
   "source": [
    "## building the model "
   ]
  },
  {
   "cell_type": "code",
   "execution_count": 42,
   "metadata": {
    "id": "cEwt85MABQ_H",
    "outputId": "8a48ae46-4a1c-44c9-92ea-3b5f4280b4a4"
   },
   "outputs": [
    {
     "name": "stdout",
     "output_type": "stream",
     "text": [
      "building the model ... \n",
      "Model: \"sequential_1\"\n",
      "_________________________________________________________________\n",
      " Layer (type)                Output Shape              Param #   \n",
      "=================================================================\n",
      " dense_3 (Dense)             (None, 128)               345728    \n",
      "                                                                 \n",
      " dropout_2 (Dropout)         (None, 128)               0         \n",
      "                                                                 \n",
      " dense_4 (Dense)             (None, 128)               16512     \n",
      "                                                                 \n",
      " dropout_3 (Dropout)         (None, 128)               0         \n",
      "                                                                 \n",
      " dense_5 (Dense)             (None, 12)                1548      \n",
      "                                                                 \n",
      "=================================================================\n",
      "Total params: 363,788\n",
      "Trainable params: 363,788\n",
      "Non-trainable params: 0\n",
      "_________________________________________________________________\n"
     ]
    }
   ],
   "source": [
    "\n",
    "\n",
    "print('building the model ... ')\n",
    "model = Sequential()\n",
    "\n",
    "\n",
    "if network_type=='CNN' or network_type=='ConvLSTM':\n",
    "    model_conv(model, num_feat_map)\n",
    "    model_variant(model, num_feat_map, dim, network_type)\n",
    "if network_type=='LSTM':\n",
    "    model_LSTM(model)\n",
    "if network_type=='MLP': \n",
    "    model_MLP(model, num_hidden_mlp) \n",
    "\n",
    "    \n",
    "    \n",
    "    \n",
    "    \n",
    "    \n",
    "model_output(model)    \n",
    "model.summary()\n",
    "\n"
   ]
  },
  {
   "cell_type": "markdown",
   "metadata": {},
   "source": [
    "## we define the epoch number here (epochs = 5) ,An epoch is a phrase used in machine learning that denotes the number of passes the machine learning algorithm has made across the full training dataset. Typically, datasets are organised into batches ,especially when the amount of data is very large"
   ]
  },
  {
   "cell_type": "code",
   "execution_count": 43,
   "metadata": {
    "id": "5lkoHkQhBQ_H",
    "outputId": "891fbd72-9f0d-4e1a-c5bd-1fb5e83400d2"
   },
   "outputs": [
    {
     "name": "stdout",
     "output_type": "stream",
     "text": [
      "Epoch 1/5\n",
      "74/74 [==============================] - 1s 5ms/step - loss: 1.7411 - accuracy: 0.4911\n",
      "Epoch 2/5\n",
      "74/74 [==============================] - 0s 6ms/step - loss: 1.0346 - accuracy: 0.6846\n",
      "Epoch 3/5\n",
      "74/74 [==============================] - 0s 6ms/step - loss: 0.8057 - accuracy: 0.7601\n",
      "Epoch 4/5\n",
      "74/74 [==============================] - 0s 7ms/step - loss: 0.6810 - accuracy: 0.7908\n",
      "Epoch 5/5\n",
      "74/74 [==============================] - 1s 7ms/step - loss: 0.5892 - accuracy: 0.8202\n"
     ]
    }
   ],
   "source": [
    "\n",
    "epochs = 5\n",
    "\n",
    "model.compile(loss=keras.losses.categorical_crossentropy,\n",
    "              optimizer='adam',\n",
    "              metrics=['accuracy'])\n",
    "\n",
    "H = model.fit(X_train, y_train,\n",
    "            batch_size=batch_size,\n",
    "            epochs=epochs,\n",
    "            verbose=1,\n",
    "            shuffle=True)"
   ]
  },
  {
   "cell_type": "code",
   "execution_count": 44,
   "metadata": {
    "id": "4gzNhXI5BQ_I",
    "outputId": "51616d19-e5d0-481f-fe9f-3aa938683ec7"
   },
   "outputs": [
    {
     "name": "stdout",
     "output_type": "stream",
     "text": [
      "0.11949258289117923 ms/frame\n",
      "MLP     mean-f1: 0.76\n"
     ]
    }
   ],
   "source": [
    "from time import time\n",
    "from sklearn.metrics import f1_score\n",
    "t0 = time()\n",
    "y_probabilities = model.predict(X_test)\n",
    "y_pred = np.argmax(y_probabilities, axis=1)\n",
    "print(str((time()-t0)*1000/len(y_pred))+' ms/frame')\n",
    "y_test = y_test0.copy()\n",
    "mean_f1 = f1_score(y_test, y_pred, average='macro')  \n",
    "print(network_type+'     mean-f1: {:.2f}'.format(mean_f1))\n",
    "\n",
    "\n",
    "\n",
    "    "
   ]
  },
  {
   "cell_type": "markdown",
   "metadata": {
    "id": "G_9qBtlfWahd"
   },
   "source": [
    "Q18: we just imported another metric to assess the performance of the model on the test set. What metric did we use for the training? Why don't we use that same metric? "
   ]
  },
  {
   "cell_type": "code",
   "execution_count": 45,
   "metadata": {
    "id": "k4DYXaZdBQ_J",
    "outputId": "98f62b9c-d882-4d0a-86d7-d7d8ee3b9a45"
   },
   "outputs": [
    {
     "name": "stdout",
     "output_type": "stream",
     "text": [
      "(3480, 2700)\n"
     ]
    }
   ],
   "source": [
    "print(X_test.shape)"
   ]
  },
  {
   "cell_type": "code",
   "execution_count": 95,
   "metadata": {
    "id": "zC0qcRjaBQ_J",
    "outputId": "8e279b8f-664e-46e9-cbe3-ec13f2b48514"
   },
   "outputs": [
    {
     "name": "stdout",
     "output_type": "stream",
     "text": [
      "the randomly selected test_id: 1608\n"
     ]
    }
   ],
   "source": [
    "\n",
    "rand_test_id = np.random.randint(0, len(X_test)-1)\n",
    "print('the randomly selected test_id: '+str(rand_test_id))"
   ]
  },
  {
   "cell_type": "markdown",
   "metadata": {
    "id": "aD3l2XvkBQ_J"
   },
   "source": [
    "**there was index error here, i fix the issue**"
   ]
  },
  {
   "cell_type": "code",
   "execution_count": null,
   "metadata": {
    "id": "CTG6S4GLBQ_K",
    "outputId": "f65a3e02-eee1-4cbc-debe-15ae1bd6c28d"
   },
   "outputs": [],
   "source": [
    "current_test_data0 = X_test[rand_test_id,:,:,0]\n",
    "#current_test_data0 = X_test[rand_test_id,0]\n",
    "print('getting the current test frame')"
   ]
  },
  {
   "cell_type": "code",
   "execution_count": null,
   "metadata": {
    "id": "eDFSA_seBQ_K",
    "outputId": "83c6af02-21a0-42c7-e5fc-7db6c5e6fa33"
   },
   "outputs": [],
   "source": [
    "print('visualising the current test frame')\n",
    "fig = plt.figure()\n",
    "plt.title('Current window: channel number: 27, length: 100')\n",
    "plt.plot(np.transpose(current_test_data0))\n",
    "plt.show()"
   ]
  },
  {
   "cell_type": "code",
   "execution_count": null,
   "metadata": {
    "id": "Z6NXmAc9BQ_K"
   },
   "outputs": [],
   "source": []
  },
  {
   "cell_type": "code",
   "execution_count": 88,
   "metadata": {
    "id": "opi8KF2cBQ_K",
    "outputId": "8e45d0d1-7adb-4ce3-8769-4cbda84deae6"
   },
   "outputs": [
    {
     "name": "stdout",
     "output_type": "stream",
     "text": [
      "defining a a query function, that can output the probability distribution given the current frame\n"
     ]
    }
   ],
   "source": [
    "print('defining a a query function, that can output the probability distribution given the current frame')\n",
    " \n",
    "def query_model(current_test_data, model):\n",
    "    if network_type=='CNN' or network_type=='ConvLSTM':\n",
    "        print('reshaping test_data')\n",
    "        current_test_data_4d = np.reshape(current_test_data, (-1, dim, win_len, 1))\n",
    "        print('working on the prediction...')\n",
    "        prob_dist = model.predict(current_test_data_4d)\n",
    "    else: \n",
    "        print('current version only work on CNN/ConvLSTM structure!')\n",
    "    return prob_dist -1\n"
   ]
  },
  {
   "cell_type": "code",
   "execution_count": null,
   "metadata": {
    "id": "CQna9TKfBQ_L",
    "outputId": "1067431f-e6d3-4419-d371-9f6a7e860894"
   },
   "outputs": [],
   "source": [
    "prob_dist = query_model(current_test_data0, model)\n",
    "print('given the query frame, the output probabilities for all classes:')\n",
    "print(prob_dist)"
   ]
  },
  {
   "cell_type": "code",
   "execution_count": null,
   "metadata": {},
   "outputs": [],
   "source": [
    "c = np.arange(cNum) # cNum: number of classes, 12 for PAMAP2 dataset\n",
    "color_set = ['yellowgreen', 'gold', 'lightskyblue', 'lightcoral',\n",
    "        '#C44E52', 'green', '#B47CC7','#777777','#C4AD66','red', \n",
    "                  'blue',  'cyan', 'magenta',\n",
    "                '#FBC15E','#56B4E9','#4878CF','#FFFEA3' ]\n",
    "\n",
    "\n",
    "colors = color_set[:cNum]\n",
    "fig, ax = plt.subplots()\n",
    "_bar = ax.bar(c, 100*prob_dist.flatten(), color=colors)\n",
    "ax.legend(_bar, (labels_PAMAP2), loc=(1.1, 0.05), shadow=True, borderaxespad=10)\n",
    "ax.set_ylabel('(%)')\n",
    "ax.set_title('prediction probability distribution')\n",
    "ax.set_xticks(c)\n",
    "plt.show()\n"
   ]
  },
  {
   "cell_type": "code",
   "execution_count": null,
   "metadata": {
    "id": "I-kiv0oYBQ_M",
    "outputId": "bedaa00a-908d-4ba3-bc89-d5b33c093b68"
   },
   "outputs": [],
   "source": [
    "\n",
    "y_pred = np.argmax(prob_dist, axis=1)\n",
    "print('predicted activity: '+labels_PAMAP2[int(y_pred)])"
   ]
  },
  {
   "cell_type": "code",
   "execution_count": null,
   "metadata": {
    "id": "iEJ5CwOABQ_M",
    "outputId": "4d61f8f2-98bf-49e8-98b2-37b2393b2225"
   },
   "outputs": [],
   "source": [
    "print('ground truth: '+labels_PAMAP2[int(y_test[rand_test_id])])"
   ]
  },
  {
   "cell_type": "code",
   "execution_count": null,
   "metadata": {
    "id": "SU-CRmGlBQ_M"
   },
   "outputs": [],
   "source": [
    "\n",
    "    \n",
    "    "
   ]
  },
  {
   "cell_type": "code",
   "execution_count": null,
   "metadata": {
    "id": "peBIOBVRBQ_N"
   },
   "outputs": [],
   "source": []
  },
  {
   "cell_type": "code",
   "execution_count": null,
   "metadata": {
    "id": "xuOYk0MrBQ_N"
   },
   "outputs": [],
   "source": []
  }
 ],
 "metadata": {
  "colab": {
   "name": "DL4HAR for practical.ipynb",
   "provenance": []
  },
  "kernelspec": {
   "display_name": "Python 3 (ipykernel)",
   "language": "python",
   "name": "python3"
  },
  "language_info": {
   "codemirror_mode": {
    "name": "ipython",
    "version": 3
   },
   "file_extension": ".py",
   "mimetype": "text/x-python",
   "name": "python",
   "nbconvert_exporter": "python",
   "pygments_lexer": "ipython3",
   "version": "3.9.7"
  }
 },
 "nbformat": 4,
 "nbformat_minor": 4
}
